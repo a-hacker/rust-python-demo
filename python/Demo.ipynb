{
 "cells": [
  {
   "cell_type": "markdown",
   "metadata": {
    "slideshow": {
     "slide_type": "slide"
    }
   },
   "source": [
    "# Writing Python Extensions in Rust"
   ]
  },
  {
   "cell_type": "markdown",
   "metadata": {},
   "source": [
    "### Austin Hacker"
   ]
  },
  {
   "cell_type": "markdown",
   "metadata": {
    "slideshow": {
     "slide_type": "slide"
    }
   },
   "source": [
    "<img src='./assets/rustacean-orig-noshadow.png' width='400px' height='266px'>\n",
    "<div style=\"text-align:center;\">\n",
    "    <h1>Rust</h1>\n",
    "</div>\n"
   ]
  },
  {
   "cell_type": "markdown",
   "metadata": {
    "slideshow": {
     "slide_type": "fragment"
    }
   },
   "source": [
    "<li style=\"text-align:center;\">Fast and Memory-efficient</li>"
   ]
  },
  {
   "cell_type": "markdown",
   "metadata": {
    "slideshow": {
     "slide_type": "fragment"
    }
   },
   "source": [
    "<li style=\"text-align:center;\">Thread and Memory Safe</li>"
   ]
  },
  {
   "cell_type": "markdown",
   "metadata": {
    "slideshow": {
     "slide_type": "fragment"
    }
   },
   "source": [
    "<li style=\"text-align:center;\">Great ecosystem and tooling</li>"
   ]
  },
  {
   "cell_type": "markdown",
   "metadata": {
    "slideshow": {
     "slide_type": "slide"
    }
   },
   "source": [
    "<div></div>"
   ]
  },
  {
   "cell_type": "markdown",
   "metadata": {
    "slideshow": {
     "slide_type": "fragment"
    }
   },
   "source": [
    "<div class=\"row\" />\n",
    "    <div class=\"tri-column\">\n",
    "        <img src='./assets/rustacean-orig-noshadow.png' width='400px' height='266px'>\n",
    "    </div>\n",
    "    <div class=\"tri-column\">\n",
    "        <img src='./assets/istockphoto-637711124-612x612.jpg' width='400px' height='266px'>\n",
    "    </div>\n",
    "    <div class=\"tri-column\">\n",
    "        <img src='./assets/1024px-Python-logo-notext.svg.png' width='400px' height='266px'>\n",
    "    </div>\n",
    "</div>"
   ]
  },
  {
   "cell_type": "markdown",
   "metadata": {
    "slideshow": {
     "slide_type": "slide"
    }
   },
   "source": [
    "## Roadmap\n",
    "- Introduction\n",
    "- PyO3 Concepts\n",
    "- Live Demo\n",
    "- Conclusion"
   ]
  },
  {
   "cell_type": "markdown",
   "metadata": {
    "slideshow": {
     "slide_type": "slide"
    }
   },
   "source": [
    "# PyO3"
   ]
  },
  {
   "cell_type": "markdown",
   "metadata": {
    "slideshow": {
     "slide_type": "fragment"
    }
   },
   "source": [
    "\n",
    "```rust\n",
    "#[pyfunction]\n",
    "fn hello_world() -> PyResult<String> {\n",
    "    Ok(String::from(\"Hello, world!\"));\n",
    "}\n",
    "```"
   ]
  },
  {
   "cell_type": "code",
   "execution_count": null,
   "metadata": {
    "slideshow": {
     "slide_type": "fragment"
    }
   },
   "outputs": [],
   "source": [
    "from dr_demo import hello_world\n",
    "\n",
    "hello_world()"
   ]
  },
  {
   "cell_type": "markdown",
   "metadata": {
    "slideshow": {
     "slide_type": "slide"
    }
   },
   "source": [
    "## Modules"
   ]
  },
  {
   "cell_type": "markdown",
   "metadata": {
    "slideshow": {
     "slide_type": "fragment"
    }
   },
   "source": [
    "```rust\n",
    "#[pymodule]\n",
    "fn dr_demo(py: Python, m: &PyModule) -> PyResult<()> {\n",
    "    m.add_wrapped(wrap_pyfunction!(hello_world))?;\n",
    "    Ok(())\n",
    "}\n",
    "```"
   ]
  },
  {
   "cell_type": "markdown",
   "metadata": {
    "slideshow": {
     "slide_type": "fragment"
    }
   },
   "source": [
    "```rust\n",
    "#[pyfunction]\n",
    "fn hello_world() -> PyResult<String> {\n",
    "    Ok(String::from(\"Hello, world!\"))\n",
    "}\n",
    "```"
   ]
  },
  {
   "cell_type": "markdown",
   "metadata": {
    "slideshow": {
     "slide_type": "slide"
    }
   },
   "source": [
    "## Functions"
   ]
  },
  {
   "cell_type": "markdown",
   "metadata": {
    "slideshow": {
     "slide_type": "fragment"
    }
   },
   "source": [
    "```rust\n",
    "#[pyfunction]\n",
    "fn add_one(x: i32) -> PyResult<i32> {\n",
    "    Ok(x + 1)\n",
    "}\n",
    "```"
   ]
  },
  {
   "cell_type": "code",
   "execution_count": null,
   "metadata": {
    "slideshow": {
     "slide_type": "fragment"
    }
   },
   "outputs": [],
   "source": [
    "from dr_demo import add_one\n",
    "\n",
    "add_one(1)"
   ]
  },
  {
   "cell_type": "code",
   "execution_count": null,
   "metadata": {
    "slideshow": {
     "slide_type": "fragment"
    }
   },
   "outputs": [],
   "source": [
    "add_one(1.0)"
   ]
  },
  {
   "cell_type": "markdown",
   "metadata": {
    "slideshow": {
     "slide_type": "subslide"
    }
   },
   "source": [
    "```rust\n",
    "#[pyfunction]\n",
    "fn call_function(py: Python, x: PyObject) -> PyResult<PyObject> {\n",
    "    x.call0(py)\n",
    "}\n",
    "```"
   ]
  },
  {
   "cell_type": "code",
   "execution_count": null,
   "metadata": {
    "slideshow": {
     "slide_type": "fragment"
    }
   },
   "outputs": [],
   "source": [
    "from dr_demo import call_function\n",
    "\n",
    "'foo'()"
   ]
  },
  {
   "cell_type": "code",
   "execution_count": null,
   "metadata": {
    "slideshow": {
     "slide_type": "fragment"
    }
   },
   "outputs": [],
   "source": [
    "'foo'()"
   ]
  },
  {
   "cell_type": "markdown",
   "metadata": {
    "slideshow": {
     "slide_type": "subslide"
    }
   },
   "source": [
    "```rust\n",
    "#[pyfunction(args=\"*\")]\n",
    "fn sum_floats(args: Option<&PyTuple>) -> PyResult<f64> {\n",
    "    let sum = match args {\n",
    "        Some(a) => a.into_iter().map(|x| x.downcast_ref::<PyFloat>())\n",
    "                    .filter_map(Result::ok).map(PyFloat::value).sum(),\n",
    "        None => 0.0\n",
    "    };\n",
    "    Ok(sum)\n",
    "}\n",
    "```"
   ]
  },
  {
   "cell_type": "code",
   "execution_count": null,
   "metadata": {
    "slideshow": {
     "slide_type": "fragment"
    }
   },
   "outputs": [],
   "source": [
    "from dr_demo import sum_floats\n",
    "\n",
    "sum_floats(1, 2.0, 'this is a string', 4.0)"
   ]
  },
  {
   "cell_type": "markdown",
   "metadata": {
    "slideshow": {
     "slide_type": "slide"
    }
   },
   "source": [
    "## Recap\n",
    "\n",
    "- Type Conversion\n",
    "- Generic types\n",
    "- Allows calling Python code\n",
    "- Pythonic errors\n",
    "- \\*args and \\*\\*kwargs"
   ]
  },
  {
   "cell_type": "markdown",
   "metadata": {
    "slideshow": {
     "slide_type": "slide"
    }
   },
   "source": [
    "## Classes"
   ]
  },
  {
   "cell_type": "markdown",
   "metadata": {
    "slideshow": {
     "slide_type": "fragment"
    }
   },
   "source": [
    "```rust\n",
    "struct MyClass {\n",
    "   num: i32,\n",
    "}\n",
    "```"
   ]
  },
  {
   "cell_type": "markdown",
   "metadata": {
    "slideshow": {
     "slide_type": "fragment"
    }
   },
   "source": [
    "```rust\n",
    "impl MyClass {\n",
    "     fn new(num: i32) {\n",
    "             MyClass {\n",
    "                 num,\n",
    "             }\n",
    "     }\n",
    "}\n",
    "```"
   ]
  },
  {
   "cell_type": "markdown",
   "metadata": {
    "slideshow": {
     "slide_type": "subslide"
    }
   },
   "source": [
    "```rust\n",
    "#[pyclass]\n",
    "struct MyClass {\n",
    "   num: i32,\n",
    "}\n",
    "#[pymethods]\n",
    "impl MyClass {\n",
    "     #[new]\n",
    "     fn new(obj: &PyRawObject, num: i32) {\n",
    "         obj.init({\n",
    "             MyClass {\n",
    "                 num,\n",
    "             }\n",
    "         });\n",
    "     }\n",
    "}```"
   ]
  },
  {
   "cell_type": "markdown",
   "metadata": {
    "slideshow": {
     "slide_type": "subslide"
    }
   },
   "source": [
    "```rust\n",
    "#[pymodule]\n",
    "fn dr_demo(py: Python, m: &PyModule) -> PyResult<()> {\n",
    "    m.add_class::<MyClass>()?;\n",
    "    Ok(())\n",
    "}\n",
    "```"
   ]
  },
  {
   "cell_type": "code",
   "execution_count": null,
   "metadata": {
    "slideshow": {
     "slide_type": "fragment"
    }
   },
   "outputs": [],
   "source": [
    "from dr_demo import MyClass\n",
    "\n",
    "MyClass(42)"
   ]
  },
  {
   "cell_type": "code",
   "execution_count": null,
   "metadata": {
    "slideshow": {
     "slide_type": "fragment"
    }
   },
   "outputs": [],
   "source": [
    "MyClass(42).num"
   ]
  },
  {
   "cell_type": "markdown",
   "metadata": {
    "slideshow": {
     "slide_type": "subslide"
    }
   },
   "source": [
    "```rust\n",
    "#[pymethods]\n",
    "impl MyClass {\n",
    "    ...\n",
    "     #[getter]\n",
    "     fn get_num(&self) -> PyResult<i32> {\n",
    "         Ok(self.num)\n",
    "     }\n",
    "}```"
   ]
  },
  {
   "cell_type": "code",
   "execution_count": null,
   "metadata": {
    "slideshow": {
     "slide_type": "fragment"
    }
   },
   "outputs": [],
   "source": [
    "from dr_demo import AccessibleMyClass\n",
    "\n",
    "AccessibleMyClass(42).num"
   ]
  },
  {
   "cell_type": "markdown",
   "metadata": {
    "slideshow": {
     "slide_type": "subslide"
    }
   },
   "source": [
    "```rust\n",
    "#[pyclass]\n",
    "struct MyClass {\n",
    "   #[pyo3(get, set)]\n",
    "   num: i32,\n",
    "}\n",
    "```"
   ]
  },
  {
   "cell_type": "markdown",
   "metadata": {
    "slideshow": {
     "slide_type": "subslide"
    }
   },
   "source": [
    "## Classes Support:\n",
    "- Magic methods\n",
    "- Inheritence\n",
    "- Class and static methods\n",
    "- Callable objects"
   ]
  },
  {
   "cell_type": "markdown",
   "metadata": {
    "slideshow": {
     "slide_type": "slide"
    }
   },
   "source": [
    "# Demo"
   ]
  },
  {
   "cell_type": "code",
   "execution_count": null,
   "metadata": {
    "slideshow": {
     "slide_type": "slide"
    }
   },
   "outputs": [],
   "source": [
    "from py_typos import WordProfiler\n",
    "\n",
    "wp = WordProfiler('/home/austin.hacker/workspace/avro/**/*')\n",
    "wp.get_most_frequent(20)"
   ]
  },
  {
   "cell_type": "code",
   "execution_count": null,
   "metadata": {
    "slideshow": {
     "slide_type": "subslide"
    }
   },
   "outputs": [],
   "source": [
    "wp.search('reader')"
   ]
  },
  {
   "cell_type": "code",
   "execution_count": null,
   "metadata": {
    "slideshow": {
     "slide_type": "slide"
    }
   },
   "outputs": [],
   "source": [
    "%%timeit\n",
    "WordProfiler('/home/austin.hacker/workspace/avro/**/*')"
   ]
  },
  {
   "cell_type": "code",
   "execution_count": null,
   "metadata": {
    "slideshow": {
     "slide_type": "fragment"
    }
   },
   "outputs": [],
   "source": [
    "from py_typos import ParallelWordProfiler"
   ]
  },
  {
   "cell_type": "code",
   "execution_count": null,
   "metadata": {
    "slideshow": {
     "slide_type": "fragment"
    }
   },
   "outputs": [],
   "source": [
    "%%timeit\n",
    "ParallelWordProfiler('/home/austin.hacker/workspace/avro/**/*')"
   ]
  },
  {
   "cell_type": "markdown",
   "metadata": {
    "slideshow": {
     "slide_type": "slide"
    }
   },
   "source": [
    "<h1>Caveats</h1>\n",
    "\n",
    "<ul>\n",
    "    <li>Requires Python 3.5 and Rust Nightly</li>\n",
    "    <li>No conversions for functions</li>\n",
    "</ul>"
   ]
  },
  {
   "cell_type": "markdown",
   "metadata": {
    "slideshow": {
     "slide_type": "slide"
    }
   },
   "source": [
    "## Further References\n",
    "\n",
    "- [The Rust Programming Language](https://doc.rust-lang.org/book/title-page.html)\n",
    "- [Build your Python Extensions with Rust!](https://youtu.be/-jqzStNk6CM?t=12727)\n",
    "- [PyO3 docs](https://pyo3.rs/v0.8.1/)\n",
    "- [This demo](https://github.com/a-hacker/rust-python-demo)(https://github.com/a-hacker/rust-python-demo)"
   ]
  },
  {
   "cell_type": "markdown",
   "metadata": {
    "slideshow": {
     "slide_type": "slide"
    }
   },
   "source": [
    "<h1>Special Thanks</h1>\n",
    "\n",
    "<ul>\n",
    "    <li>https://rustacean.net/</li>\n",
    "    <li>Paul Ganssle</li>\n",
    "</ul>"
   ]
  },
  {
   "cell_type": "code",
   "execution_count": null,
   "metadata": {},
   "outputs": [],
   "source": []
  }
 ],
 "metadata": {
  "celltoolbar": "Slideshow",
  "kernelspec": {
   "display_name": "Python 3",
   "language": "python",
   "name": "python3"
  },
  "language_info": {
   "codemirror_mode": {
    "name": "ipython",
    "version": 3
   },
   "file_extension": ".py",
   "mimetype": "text/x-python",
   "name": "python",
   "nbconvert_exporter": "python",
   "pygments_lexer": "ipython3",
   "version": "3.6.8"
  },
  "rise": {
   "autolaunch": true,
   "theme": "dr"
  }
 },
 "nbformat": 4,
 "nbformat_minor": 4
}
