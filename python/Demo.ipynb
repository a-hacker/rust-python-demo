{
 "cells": [
  {
   "cell_type": "markdown",
   "metadata": {
    "slideshow": {
     "slide_type": "slide"
    }
   },
   "source": [
    "# Writing Python Extensions in Rust"
   ]
  },
  {
   "cell_type": "markdown",
   "metadata": {},
   "source": [
    "### Austin Hacker"
   ]
  },
  {
   "cell_type": "markdown",
   "metadata": {
    "slideshow": {
     "slide_type": "notes"
    }
   },
   "source": [
    "- Thanks for attending this talk\n",
    "- Today I'll be talking about writing python extensions in rust\n",
    "- For those of you who don't know me, I'm Austin Hacker"
   ]
  },
  {
   "cell_type": "markdown",
   "metadata": {
    "slideshow": {
     "slide_type": "slide"
    }
   },
   "source": [
    "<div class=\"row\">\n",
    "    <div class=\"column\">\n",
    "        <h2>About Me</h2>\n",
    "        <ul>\n",
    "            <li>Data Management</li>\n",
    "            <li>Cooking</li>\n",
    "            <li>Board Games</li>\n",
    "            <li>Programming!</li>\n",
    "        </ul>\n",
    "    </div>\n",
    "    <div class=\"column\">\n",
    "        <img src='./assets/image_1564067235.jpeg'/>\n",
    "    </div>\n",
    "</div>"
   ]
  },
  {
   "cell_type": "markdown",
   "metadata": {
    "slideshow": {
     "slide_type": "notes"
    }
   },
   "source": [
    "- and I'm a data engineer on the data management domain\n",
    "- I just joining DataRobot in early August\n",
    "- I grew up in Montana and enjoy a range of outdoor activities like hiking and rock climbing\n",
    "- and some of my other hobbies include cooking, gaming both video games and board games, and of course programming\n",
    "- I especially like to learn new languages and frameworks..."
   ]
  },
  {
   "cell_type": "markdown",
   "metadata": {
    "slideshow": {
     "slide_type": "slide"
    }
   },
   "source": [
    "<img src='./assets/rustacean-orig-noshadow.png' width='400px' height='266px'>\n",
    "<div style=\"text-align:center;\">\n",
    "    <h1>Rust</h1>\n",
    "</div>\n"
   ]
  },
  {
   "cell_type": "markdown",
   "metadata": {
    "slideshow": {
     "slide_type": "fragment"
    }
   },
   "source": [
    "<li style=\"text-align:center;\">Fast and Memory-efficient</li>"
   ]
  },
  {
   "cell_type": "markdown",
   "metadata": {
    "slideshow": {
     "slide_type": "fragment"
    }
   },
   "source": [
    "<li style=\"text-align:center;\">Thread and Memory Safe</li>"
   ]
  },
  {
   "cell_type": "markdown",
   "metadata": {
    "slideshow": {
     "slide_type": "notes"
    }
   },
   "source": [
    "- lately I've been learning Rust and have found it to be a really awesome language\n",
    "- for this talk, I won't be talking too much about how Rust works, but here are some of the reasons why you'd use rust:\n",
    "- it's easy to write fast, memory-efficient code\n",
    "- there's a few reasons why it is so fast but in particular it is a compiled language without a runtime or a garbage collector\n",
    "- yet it is both thread safe and memory safe so you be confident your code doesn't introduce major bugs"
   ]
  },
  {
   "cell_type": "markdown",
   "metadata": {
    "slideshow": {
     "slide_type": "slide"
    }
   },
   "source": [
    "<div></div>"
   ]
  },
  {
   "cell_type": "markdown",
   "metadata": {
    "slideshow": {
     "slide_type": "fragment"
    }
   },
   "source": [
    "<div class=\"row\" />\n",
    "    <div class=\"tri-column\">\n",
    "        <img src='./assets/rustacean-orig-noshadow.png' width='400px' height='266px'>\n",
    "    </div>\n",
    "    <div class=\"tri-column\">\n",
    "        <img src='./assets/istockphoto-637711124-612x612.jpg' width='400px' height='266px'>\n",
    "    </div>\n",
    "    <div class=\"tri-column\">\n",
    "        <img src='./assets/1024px-Python-logo-notext.svg.png' width='400px' height='266px'>\n",
    "    </div>\n",
    "</div>"
   ]
  },
  {
   "cell_type": "markdown",
   "metadata": {
    "slideshow": {
     "slide_type": "notes"
    }
   },
   "source": [
    "- In addition to these strengths of the language itself, people also like rust because it has a strong package management and build system, as well as other integrated tools\n",
    "- In many ways, Rust's strong points are Python's weak points\n",
    "- so what if we could marry the two into one super language?"
   ]
  },
  {
   "cell_type": "markdown",
   "metadata": {
    "slideshow": {
     "slide_type": "slide"
    }
   },
   "source": [
    "<h1>Special Thanks</h1>\n",
    "\n",
    "<ul>\n",
    "    <li>https://rustacean.net/</li>\n",
    "</ul>"
   ]
  },
  {
   "cell_type": "code",
   "execution_count": 1,
   "metadata": {
    "slideshow": {
     "slide_type": "slide"
    }
   },
   "outputs": [],
   "source": [
    "from py_typos import WordProfiler"
   ]
  },
  {
   "cell_type": "code",
   "execution_count": 2,
   "metadata": {
    "slideshow": {
     "slide_type": "fragment"
    }
   },
   "outputs": [],
   "source": [
    "profiler = WordProfiler('../typo_checker')"
   ]
  },
  {
   "cell_type": "code",
   "execution_count": 3,
   "metadata": {
    "slideshow": {
     "slide_type": "fragment"
    }
   },
   "outputs": [
    {
     "data": {
      "text/plain": [
       "['a', 'as', 'fs', 'is', 'rs', 's']"
      ]
     },
     "execution_count": 3,
     "metadata": {},
     "output_type": "execute_result"
    }
   ],
   "source": [
    "profiler.search('as')"
   ]
  }
 ],
 "metadata": {
  "celltoolbar": "Slideshow",
  "kernelspec": {
   "display_name": "Python 3",
   "language": "python",
   "name": "python3"
  },
  "language_info": {
   "codemirror_mode": {
    "name": "ipython",
    "version": 3
   },
   "file_extension": ".py",
   "mimetype": "text/x-python",
   "name": "python",
   "nbconvert_exporter": "python",
   "pygments_lexer": "ipython3",
   "version": "3.6.8"
  },
  "rise": {
   "autolaunch": true,
   "theme": "dr"
  }
 },
 "nbformat": 4,
 "nbformat_minor": 2
}
